{
 "nbformat": 4,
 "nbformat_minor": 0,
 "metadata": {
  "colab": {
   "name": "HW1_Answers.ipynb",
   "provenance": [],
   "collapsed_sections": []
  },
  "kernelspec": {
   "name": "python3",
   "display_name": "Python 3"
  },
  "pycharm": {
   "stem_cell": {
    "cell_type": "raw",
    "source": [],
    "metadata": {
     "collapsed": false
    }
   }
  }
 },
 "cells": [
  {
   "cell_type": "markdown",
   "metadata": {
    "id": "7iRXVONVqECs",
    "colab_type": "text"
   },
   "source": [
    "1. Set variable total = 0. Loop through the numbers [1:20], (not including 20). If a number is divisible by 3: <br>\n",
    "  a. Calculate the cube of this number ($x^3$) <br>\n",
    "  b. Add the cube of this number to the total. <br>\n",
    "Print the total after you looped though the numbers as your answer.\n",
    "\n"
   ]
  },
  {
   "cell_type": "markdown",
   "metadata": {
    "id": "HzFTIJtIrzIO",
    "colab_type": "text"
   },
   "source": [
    "2. Consider a list of Michigan cities: \n",
    "list_a= ['Detroit','Grand Rapids','Warren','Sterling Heights','Lansing','Ann Arbor', 'Flint','Dearborn','Livonia','Canton','Westland','Troy','Farmington Hills','Macomb'] <br>\n",
    "Use list to:<br>\n",
    "a. Calcualte the total number of cities<br>\n",
    "b. Convert the city names to the lower case<br>\n",
    "c. Calcualte the number of cities with the letter 'r' <br>\n",
    "Report your results\n"
   ]
  },
  {
   "cell_type": "markdown",
   "metadata": {
    "id": "VjIdOnPDtmzp",
    "colab_type": "text"
   },
   "source": [
    "3. Consider a second list of cities: list_b = ['Detroit','Washington','Warren','Salmon Heights','Lansing','Nome', 'Flint','Dearborn','Santa Fe','Canton','Westland','Troy','Farmington Hills','Amherst', 'Rehovot', 'Tartu']. <br>\n",
    "Calculate: <br>\n",
    "a. The number of cities that are in both list_a and list_b <br>\n",
    "b. The number of cities that in the the list_b, but NOT in list a <br>\n",
    "\n",
    "\n"
   ]
  },
  {
   "cell_type": "markdown",
   "metadata": {
    "id": "iCnSWDWgwlOV",
    "colab_type": "text"
   },
   "source": [
    "4. Use the list_a defined in the previous problem. Report first, last, the longest and shortest city in the list. "
   ]
  },
  {
   "cell_type": "markdown",
   "metadata": {
    "id": "iqP9jeWS0siV",
    "colab_type": "text"
   },
   "source": [
    "5. Create a merged list between list_a and list_b keep unique city names. Sort the list unique names in the alphabetical order. Print this list of unique names.\n"
   ]
  },
  {
   "cell_type": "markdown",
   "metadata": {
    "id": "VISeRxHt19R1",
    "colab_type": "text"
   },
   "source": [
    "6. Create 3 numpy arrays:\n",
    "- array1 = [0:20]\n",
    "- array2 = [100:120]\n",
    "- array3 = [-10:10]\n",
    "Stack the arrays vertically in one matrix and print it.\n"
   ]
  },
  {
   "cell_type": "markdown",
   "metadata": {
    "id": "2HPK1QU8G2ST",
    "colab_type": "text"
   },
   "source": [
    "7. Create a function that checks if a number is a prime. It has the following form <br>\n",
    "```\n",
    "def IsPrime(n):\n",
    "...\n",
    "if prime:\n",
    "  return True\n",
    "else return False\n",
    "```\n",
    "Test the function on numbers 7 and 9\n"
   ]
  },
  {
   "cell_type": "markdown",
   "metadata": {
    "id": "s8o_GyLNH1Ds",
    "colab_type": "text",
    "pycharm": {
     "name": "#%% md\n"
    }
   },
   "source": [
    "8. Create a function that takes a number as an argument and then returns the nearest prime number to the entered number. The prime number can be smaller or larger than the entered number. The function should return the entered number and prime number. <br>\n",
    "You can reuse the function IsPrime() you specified in the previous problem. <br>\n",
    "Test your program on number 7, 24 and 366, 134124 and report the results.\n"
   ]
  }
 ]
}
